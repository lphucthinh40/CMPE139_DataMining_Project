{
 "cells": [
  {
   "cell_type": "markdown",
   "metadata": {},
   "source": [
    "## Data Preprocessing for Covid-19 Twitter Dataset\n",
    "\n",
    "This notebook contains the code and techniques we used for preprocessing twitter data "
   ]
  },
  {
   "cell_type": "code",
   "execution_count": 51,
   "metadata": {},
   "outputs": [],
   "source": [
    "import pandas as pd\n",
    "import numpy as np\n",
    "import json\n",
    "import os\n",
    "import us\n",
    "from tqdm import tqdm"
   ]
  },
  {
   "cell_type": "code",
   "execution_count": 50,
   "metadata": {},
   "outputs": [
    {
     "data": {
      "text/html": [
       "<div>\n",
       "<style scoped>\n",
       "    .dataframe tbody tr th:only-of-type {\n",
       "        vertical-align: middle;\n",
       "    }\n",
       "\n",
       "    .dataframe tbody tr th {\n",
       "        vertical-align: top;\n",
       "    }\n",
       "\n",
       "    .dataframe thead th {\n",
       "        text-align: right;\n",
       "    }\n",
       "</style>\n",
       "<table border=\"1\" class=\"dataframe\">\n",
       "  <thead>\n",
       "    <tr style=\"text-align: right;\">\n",
       "      <th></th>\n",
       "      <th>date</th>\n",
       "      <th>Alabama</th>\n",
       "      <th>Alaska</th>\n",
       "      <th>Arizona</th>\n",
       "      <th>Arkansas</th>\n",
       "      <th>California</th>\n",
       "      <th>Colorado</th>\n",
       "      <th>Connecticut</th>\n",
       "      <th>Delaware</th>\n",
       "      <th>Florida</th>\n",
       "      <th>...</th>\n",
       "      <th>South Dakota</th>\n",
       "      <th>Tennessee</th>\n",
       "      <th>Texas</th>\n",
       "      <th>Utah</th>\n",
       "      <th>Vermont</th>\n",
       "      <th>Virginia</th>\n",
       "      <th>Washington</th>\n",
       "      <th>West Virginia</th>\n",
       "      <th>Wisconsin</th>\n",
       "      <th>Wyoming</th>\n",
       "    </tr>\n",
       "  </thead>\n",
       "  <tbody>\n",
       "  </tbody>\n",
       "</table>\n",
       "<p>0 rows × 51 columns</p>\n",
       "</div>"
      ],
      "text/plain": [
       "Empty DataFrame\n",
       "Columns: [date, Alabama, Alaska, Arizona, Arkansas, California, Colorado, Connecticut, Delaware, Florida, Georgia, Hawaii, Idaho, Illinois, Indiana, Iowa, Kansas, Kentucky, Louisiana, Maine, Maryland, Massachusetts, Michigan, Minnesota, Mississippi, Missouri, Montana, Nebraska, Nevada, New Hampshire, New Jersey, New Mexico, New York, North Carolina, North Dakota, Ohio, Oklahoma, Oregon, Pennsylvania, Rhode Island, South Carolina, South Dakota, Tennessee, Texas, Utah, Vermont, Virginia, Washington, West Virginia, Wisconsin, Wyoming]\n",
       "Index: []\n",
       "\n",
       "[0 rows x 51 columns]"
      ]
     },
     "execution_count": 50,
     "metadata": {},
     "output_type": "execute_result"
    }
   ],
   "source": [
    "# Create a dataframe template for tweets per state\n",
    "us_states = [state.name for state in us.states.STATES]\n",
    "columns = ['date'] + us_states\n",
    "df = pd.DataFrame(columns=columns)\n",
    "df"
   ]
  },
  {
   "cell_type": "code",
   "execution_count": 49,
   "metadata": {},
   "outputs": [
    {
     "name": "stdout",
     "output_type": "stream",
     "text": [
      "covid19_2020_02_06_13_19_22_minimal.json\n",
      "covid19_2020_02_07_minimal.json\n",
      "covid19_2020_02_08_00_00_00_minimal.json\n",
      "covid19_2020_02_09_minimal.json\n",
      "covid19_2020_02_10_00_00_00_minimal.json\n",
      "covid19_2020_02_11_minimal.json\n",
      "covid19_2020_02_12_0_minimal.json\n",
      "covid19_2020_02_13_minimal.json\n",
      "covid19_2020_02_14_0_minimal.json\n",
      "covid19_2020_02_15_00_00_00_minimal.json\n"
     ]
    }
   ],
   "source": [
    "json_files = [f for f in os.listdir('./') if f.endswith('.json')]\n",
    "# show the first 10 files\n",
    "for i in range(10):\n",
    "    print(json_files[i])"
   ]
  },
  {
   "cell_type": "code",
   "execution_count": 52,
   "metadata": {},
   "outputs": [
    {
     "name": "stderr",
     "output_type": "stream",
     "text": [
      "10085it [00:00, 100123.69it/s]"
     ]
    },
    {
     "name": "stdout",
     "output_type": "stream",
     "text": [
      "reading: covid19_2020_02_06_13_19_22_minimal.json\n"
     ]
    },
    {
     "name": "stderr",
     "output_type": "stream",
     "text": [
      "378296it [00:02, 163596.53it/s]\n",
      "11466it [00:00, 113830.19it/s]"
     ]
    },
    {
     "name": "stdout",
     "output_type": "stream",
     "text": [
      "reading: covid19_2020_02_07_minimal.json\n"
     ]
    },
    {
     "name": "stderr",
     "output_type": "stream",
     "text": [
      "804285it [00:05, 146411.25it/s]\n",
      "13954it [00:00, 138532.43it/s]"
     ]
    },
    {
     "name": "stdout",
     "output_type": "stream",
     "text": [
      "reading: covid19_2020_02_08_00_00_00_minimal.json\n"
     ]
    },
    {
     "name": "stderr",
     "output_type": "stream",
     "text": [
      "759685it [00:04, 176214.13it/s]\n",
      "15597it [00:00, 155281.54it/s]"
     ]
    },
    {
     "name": "stdout",
     "output_type": "stream",
     "text": [
      "reading: covid19_2020_02_09_minimal.json\n"
     ]
    },
    {
     "name": "stderr",
     "output_type": "stream",
     "text": [
      "1059586it [00:05, 179602.86it/s]\n",
      "668it [00:00, 35256.01it/s]\n",
      "13412it [00:00, 133096.43it/s]"
     ]
    },
    {
     "name": "stdout",
     "output_type": "stream",
     "text": [
      "reading: covid19_2020_02_10_00_00_00_minimal.json\n",
      "reading: covid19_2020_02_11_minimal.json\n"
     ]
    },
    {
     "name": "stderr",
     "output_type": "stream",
     "text": [
      "286900it [00:01, 169865.23it/s]\n",
      "13170it [00:00, 130689.03it/s]"
     ]
    },
    {
     "name": "stdout",
     "output_type": "stream",
     "text": [
      "reading: covid19_2020_02_12_0_minimal.json\n"
     ]
    },
    {
     "name": "stderr",
     "output_type": "stream",
     "text": [
      "1274067it [00:07, 180173.62it/s]\n",
      "16751it [00:00, 166295.35it/s]"
     ]
    },
    {
     "name": "stdout",
     "output_type": "stream",
     "text": [
      "reading: covid19_2020_02_13_minimal.json\n"
     ]
    },
    {
     "name": "stderr",
     "output_type": "stream",
     "text": [
      "751245it [00:04, 174979.00it/s]\n",
      "14314it [00:00, 142103.07it/s]"
     ]
    },
    {
     "name": "stdout",
     "output_type": "stream",
     "text": [
      "reading: covid19_2020_02_14_0_minimal.json\n"
     ]
    },
    {
     "name": "stderr",
     "output_type": "stream",
     "text": [
      "853189it [00:04, 176355.40it/s]\n",
      "15433it [00:00, 153205.48it/s]"
     ]
    },
    {
     "name": "stdout",
     "output_type": "stream",
     "text": [
      "reading: covid19_2020_02_15_00_00_00_minimal.json\n"
     ]
    },
    {
     "name": "stderr",
     "output_type": "stream",
     "text": [
      "463129it [00:02, 174893.39it/s]\n",
      "31329it [00:00, 148366.08it/s]"
     ]
    },
    {
     "name": "stdout",
     "output_type": "stream",
     "text": [
      "reading: covid19_2020_02_16_00_00_00_minimal.json\n"
     ]
    },
    {
     "name": "stderr",
     "output_type": "stream",
     "text": [
      "454233it [00:02, 172916.18it/s]\n",
      "32202it [00:00, 150407.57it/s]"
     ]
    },
    {
     "name": "stdout",
     "output_type": "stream",
     "text": [
      "reading: covid19_2020_02_17_00_00_00_minimal.json\n"
     ]
    },
    {
     "name": "stderr",
     "output_type": "stream",
     "text": [
      "497281it [00:02, 168216.47it/s]\n",
      "13401it [00:00, 133557.33it/s]"
     ]
    },
    {
     "name": "stdout",
     "output_type": "stream",
     "text": [
      "reading: covid19_2020_02_18_0_minimal.json\n"
     ]
    },
    {
     "name": "stderr",
     "output_type": "stream",
     "text": [
      "752972it [00:04, 171373.35it/s]\n",
      "15525it [00:00, 154127.17it/s]"
     ]
    },
    {
     "name": "stdout",
     "output_type": "stream",
     "text": [
      "reading: covid19_2020_02_19_00_00_00_minimal.json\n"
     ]
    },
    {
     "name": "stderr",
     "output_type": "stream",
     "text": [
      "494639it [00:02, 169715.20it/s]\n",
      "13627it [00:00, 135228.74it/s]"
     ]
    },
    {
     "name": "stdout",
     "output_type": "stream",
     "text": [
      "reading: covid19_2020_02_20_minimal.json\n"
     ]
    },
    {
     "name": "stderr",
     "output_type": "stream",
     "text": [
      "586811it [00:03, 174133.34it/s]\n",
      "14485it [00:00, 144244.86it/s]"
     ]
    },
    {
     "name": "stdout",
     "output_type": "stream",
     "text": [
      "reading: covid19_2020_02_21_0_minimal.json\n"
     ]
    },
    {
     "name": "stderr",
     "output_type": "stream",
     "text": [
      "845044it [00:04, 175596.77it/s]\n",
      "12593it [00:00, 124867.01it/s]"
     ]
    },
    {
     "name": "stdout",
     "output_type": "stream",
     "text": [
      "reading: covid19_2020_02_22_00_00_00_minimal.json\n"
     ]
    },
    {
     "name": "stderr",
     "output_type": "stream",
     "text": [
      "700065it [00:04, 170365.20it/s]\n",
      "13316it [00:00, 132142.19it/s]"
     ]
    },
    {
     "name": "stdout",
     "output_type": "stream",
     "text": [
      "reading: covid19_2020_02_23_00_00_00_minimal.json\n"
     ]
    },
    {
     "name": "stderr",
     "output_type": "stream",
     "text": [
      "953635it [00:05, 170989.00it/s]\n",
      "14638it [00:00, 145317.19it/s]"
     ]
    },
    {
     "name": "stdout",
     "output_type": "stream",
     "text": [
      "reading: covid19_2020_02_24_00_minimal.json\n"
     ]
    },
    {
     "name": "stderr",
     "output_type": "stream",
     "text": [
      "1456355it [00:08, 172730.00it/s]\n",
      "17255it [00:00, 172230.69it/s]"
     ]
    },
    {
     "name": "stdout",
     "output_type": "stream",
     "text": [
      "reading: covid19_2020_02_25_minimal.json\n"
     ]
    },
    {
     "name": "stderr",
     "output_type": "stream",
     "text": [
      "1865143it [00:10, 175716.42it/s]\n",
      "15860it [00:00, 157442.13it/s]"
     ]
    },
    {
     "name": "stdout",
     "output_type": "stream",
     "text": [
      "reading: covid19_2020_02_26_minimal.json\n"
     ]
    },
    {
     "name": "stderr",
     "output_type": "stream",
     "text": [
      "3390756it [00:21, 161244.92it/s]\n",
      "8148it [00:00, 80888.60it/s]"
     ]
    },
    {
     "name": "stdout",
     "output_type": "stream",
     "text": [
      "reading: covid19_2020_02_27_00_00_00_minimal.json\n"
     ]
    },
    {
     "name": "stderr",
     "output_type": "stream",
     "text": [
      "2470408it [00:14, 168096.19it/s]\n",
      "14239it [00:00, 141355.82it/s]"
     ]
    },
    {
     "name": "stdout",
     "output_type": "stream",
     "text": [
      "reading: covid19_2020_02_28_00_00_00_minimal.json\n"
     ]
    },
    {
     "name": "stderr",
     "output_type": "stream",
     "text": [
      "2681950it [00:15, 170728.28it/s]\n",
      "50it [00:00, 2169.26it/s]\n",
      "12564it [00:00, 125328.46it/s]"
     ]
    },
    {
     "name": "stdout",
     "output_type": "stream",
     "text": [
      "reading: covid19_2020_02_29_00_00_00_minimal.json\n",
      "reading: covid19_2020_03_01_00_00_00_minimal.json\n"
     ]
    },
    {
     "name": "stderr",
     "output_type": "stream",
     "text": [
      "2255820it [00:13, 162717.52it/s]\n",
      "11052it [00:00, 109717.82it/s]"
     ]
    },
    {
     "name": "stdout",
     "output_type": "stream",
     "text": [
      "reading: covid19_2020_03_02_minimal.json\n"
     ]
    },
    {
     "name": "stderr",
     "output_type": "stream",
     "text": [
      "471024it [00:02, 158294.71it/s]\n",
      "12772it [00:00, 126738.98it/s]"
     ]
    },
    {
     "name": "stdout",
     "output_type": "stream",
     "text": [
      "reading: covid19_2020_03_03.json\n"
     ]
    },
    {
     "name": "stderr",
     "output_type": "stream",
     "text": [
      "4052304it [00:23, 174403.11it/s]\n",
      "29it [00:00, 1002.76it/s]\n",
      "114it [00:00, 114198.87it/s]\n",
      "13236it [00:00, 132033.69it/s]"
     ]
    },
    {
     "name": "stdout",
     "output_type": "stream",
     "text": [
      "reading: covid19_2020_03_04_00_00_00_minimal.json\n",
      "reading: covid19_2020_03_05_00_00_00_minimal.json\n",
      "reading: covid19_2020_03_06.json\n"
     ]
    },
    {
     "name": "stderr",
     "output_type": "stream",
     "text": [
      "8587709it [00:53, 161397.92it/s]\n",
      "14476it [00:00, 143337.12it/s]"
     ]
    },
    {
     "name": "stdout",
     "output_type": "stream",
     "text": [
      "reading: covid19_2020_03_07_00_00_00_minimal.json\n"
     ]
    },
    {
     "name": "stderr",
     "output_type": "stream",
     "text": [
      "2556585it [00:16, 158134.10it/s]\n",
      "11it [00:00, 459.80it/s]\n",
      "12657it [00:00, 125652.81it/s]"
     ]
    },
    {
     "name": "stdout",
     "output_type": "stream",
     "text": [
      "reading: covid19_2020_03_08_00_00_00_minimal.json\n",
      "reading: covid19_2020_03_09_12_07_43_minimal.json\n"
     ]
    },
    {
     "name": "stderr",
     "output_type": "stream",
     "text": [
      "1172663it [00:07, 163406.15it/s]\n",
      "31023it [00:00, 153453.67it/s]"
     ]
    },
    {
     "name": "stdout",
     "output_type": "stream",
     "text": [
      "reading: covid19_2020_03_10_00_00_00_minimal.json\n"
     ]
    },
    {
     "name": "stderr",
     "output_type": "stream",
     "text": [
      "2381277it [00:13, 171459.34it/s]\n",
      "14375it [00:00, 142661.71it/s]"
     ]
    },
    {
     "name": "stdout",
     "output_type": "stream",
     "text": [
      "reading: covid19_2020_03_11.json\n"
     ]
    },
    {
     "name": "stderr",
     "output_type": "stream",
     "text": [
      "4682352it [00:27, 169556.31it/s]\n",
      "14819it [00:00, 147700.66it/s]"
     ]
    },
    {
     "name": "stdout",
     "output_type": "stream",
     "text": [
      "reading: covid19_2020_03_12.json\n"
     ]
    },
    {
     "name": "stderr",
     "output_type": "stream",
     "text": [
      "2419015it [00:14, 172148.27it/s]\n",
      "83it [00:00, 2774.12it/s]\n",
      "11it [00:00, 11021.82it/s]\n",
      "10it [00:00, 10031.82it/s]\n",
      "20it [00:00, 20082.85it/s]\n",
      "0it [00:00, ?it/s]"
     ]
    },
    {
     "name": "stdout",
     "output_type": "stream",
     "text": [
      "reading: covid19_2020_03_13_00_00_00_minimal.json\n",
      "reading: covid19_2020_03_14_00_00_00_minimal.json\n",
      "reading: covid19_2020_03_15_00_00_00_minimal.json\n",
      "reading: covid19_2020_03_16_00_00_00_minimal.json\n",
      "reading: covid19_2020_03_17.json\n"
     ]
    },
    {
     "name": "stderr",
     "output_type": "stream",
     "text": [
      "2967449it [00:17, 171270.95it/s]\n",
      "16490it [00:00, 163658.95it/s]"
     ]
    },
    {
     "name": "stdout",
     "output_type": "stream",
     "text": [
      "reading: covid19_2020_03_18_minimal.json\n"
     ]
    },
    {
     "name": "stderr",
     "output_type": "stream",
     "text": [
      "937820it [00:05, 171394.20it/s]\n",
      "13989it [00:00, 138843.42it/s]"
     ]
    },
    {
     "name": "stdout",
     "output_type": "stream",
     "text": [
      "reading: covid19_2020_03_19_minimal.json\n"
     ]
    },
    {
     "name": "stderr",
     "output_type": "stream",
     "text": [
      "1354600it [00:09, 136967.52it/s]\n",
      "27it [00:00, 902.41it/s]\n",
      "64it [00:00, 32345.52it/s]\n",
      "28it [00:00, 28122.73it/s]\n",
      "48it [00:00, 48141.22it/s]\n",
      "0it [00:00, ?it/s]"
     ]
    },
    {
     "name": "stdout",
     "output_type": "stream",
     "text": [
      "reading: covid19_2020_03_20_00_00_00_minimal.json\n",
      "reading: covid19_2020_03_21_00_00_00_minimal.json\n",
      "reading: covid19_2020_03_22_00_00_00_minimal.json\n",
      "reading: covid19_2020_03_23_00_00_00_minimal.json\n",
      "reading: covid19_2020_03_24.json\n"
     ]
    },
    {
     "name": "stderr",
     "output_type": "stream",
     "text": [
      "1439116it [00:08, 167216.39it/s]\n",
      "14158it [00:00, 140555.37it/s]"
     ]
    },
    {
     "name": "stdout",
     "output_type": "stream",
     "text": [
      "reading: covid19_2020_03_25_minimal.json\n"
     ]
    },
    {
     "name": "stderr",
     "output_type": "stream",
     "text": [
      "711355it [00:04, 168348.00it/s]\n",
      "12650it [00:00, 125525.68it/s]"
     ]
    },
    {
     "name": "stdout",
     "output_type": "stream",
     "text": [
      "reading: covid19_2020_03_26_minimal.json\n"
     ]
    },
    {
     "name": "stderr",
     "output_type": "stream",
     "text": [
      "1038287it [00:06, 151835.34it/s]\n",
      "15046it [00:00, 149370.75it/s]"
     ]
    },
    {
     "name": "stdout",
     "output_type": "stream",
     "text": [
      "reading: covid19_2020_03_27.json\n"
     ]
    },
    {
     "name": "stderr",
     "output_type": "stream",
     "text": [
      "1415906it [00:08, 175996.57it/s]\n",
      "14369it [00:00, 142647.73it/s]"
     ]
    },
    {
     "name": "stdout",
     "output_type": "stream",
     "text": [
      "reading: covid19_2020_03_28.json\n"
     ]
    },
    {
     "name": "stderr",
     "output_type": "stream",
     "text": [
      "359164it [00:02, 177461.04it/s]\n",
      "18134it [00:00, 179945.84it/s]"
     ]
    },
    {
     "name": "stdout",
     "output_type": "stream",
     "text": [
      "reading: covid19_2020_03_29.json\n"
     ]
    },
    {
     "name": "stderr",
     "output_type": "stream",
     "text": [
      "1835137it [00:10, 180986.65it/s]\n",
      "15591it [00:00, 154738.81it/s]"
     ]
    },
    {
     "name": "stdout",
     "output_type": "stream",
     "text": [
      "reading: covid19_2020_03_30.json\n"
     ]
    },
    {
     "name": "stderr",
     "output_type": "stream",
     "text": [
      "1996300it [00:11, 177832.50it/s]\n",
      "17442it [00:00, 173086.42it/s]"
     ]
    },
    {
     "name": "stdout",
     "output_type": "stream",
     "text": [
      "reading: covid19_2020_03_31.json\n"
     ]
    },
    {
     "name": "stderr",
     "output_type": "stream",
     "text": [
      "5191496it [00:30, 171312.38it/s]\n",
      "32432it [00:00, 152327.67it/s]"
     ]
    },
    {
     "name": "stdout",
     "output_type": "stream",
     "text": [
      "reading: covid19_2020_04_01.json\n"
     ]
    },
    {
     "name": "stderr",
     "output_type": "stream",
     "text": [
      "186263it [00:01, 178030.96it/s]\n",
      "15851it [00:00, 157360.61it/s]"
     ]
    },
    {
     "name": "stdout",
     "output_type": "stream",
     "text": [
      "reading: covid19_2020_04_02.json\n"
     ]
    },
    {
     "name": "stderr",
     "output_type": "stream",
     "text": [
      "1490905it [00:08, 178116.76it/s]\n",
      "15892it [00:00, 157701.19it/s]"
     ]
    },
    {
     "name": "stdout",
     "output_type": "stream",
     "text": [
      "reading: covid19_2020_04_03.json\n"
     ]
    },
    {
     "name": "stderr",
     "output_type": "stream",
     "text": [
      "900841it [00:05, 177901.90it/s]\n",
      "15342it [00:00, 152249.14it/s]"
     ]
    },
    {
     "name": "stdout",
     "output_type": "stream",
     "text": [
      "reading: covid19_2020_04_04.json\n"
     ]
    },
    {
     "name": "stderr",
     "output_type": "stream",
     "text": [
      "846260it [00:04, 179334.93it/s]\n",
      "21it [00:00, 842.26it/s]\n",
      "12269it [00:00, 121818.22it/s]"
     ]
    },
    {
     "name": "stdout",
     "output_type": "stream",
     "text": [
      "reading: covid19_2020_04_05_00_00_00_minimal.json\n",
      "reading: covid19_2020_04_06.json\n"
     ]
    },
    {
     "name": "stderr",
     "output_type": "stream",
     "text": [
      "1672412it [00:09, 176596.78it/s]\n",
      "17978it [00:00, 178359.44it/s]"
     ]
    },
    {
     "name": "stdout",
     "output_type": "stream",
     "text": [
      "reading: covid19_2020_04_07.json\n"
     ]
    },
    {
     "name": "stderr",
     "output_type": "stream",
     "text": [
      "898399it [00:07, 126887.85it/s]\n",
      "12926it [00:00, 128326.05it/s]"
     ]
    },
    {
     "name": "stdout",
     "output_type": "stream",
     "text": [
      "reading: covid19_2020_04_08.json\n"
     ]
    },
    {
     "name": "stderr",
     "output_type": "stream",
     "text": [
      "2259436it [00:12, 175187.21it/s]\n",
      "15561it [00:00, 154414.02it/s]"
     ]
    },
    {
     "name": "stdout",
     "output_type": "stream",
     "text": [
      "reading: covid19_2020_04_09.json\n"
     ]
    },
    {
     "name": "stderr",
     "output_type": "stream",
     "text": [
      "1096247it [00:07, 155979.47it/s]\n",
      "10722it [00:00, 107186.11it/s]"
     ]
    },
    {
     "name": "stdout",
     "output_type": "stream",
     "text": [
      "reading: covid19_2020_04_10.json\n"
     ]
    },
    {
     "name": "stderr",
     "output_type": "stream",
     "text": [
      "2539727it [00:14, 176101.89it/s]\n",
      "16978it [00:00, 168549.68it/s]"
     ]
    },
    {
     "name": "stdout",
     "output_type": "stream",
     "text": [
      "reading: covid19_2020_04_11.json\n"
     ]
    },
    {
     "name": "stderr",
     "output_type": "stream",
     "text": [
      "316304it [00:01, 175413.32it/s]\n",
      "14646it [00:00, 146099.62it/s]"
     ]
    },
    {
     "name": "stdout",
     "output_type": "stream",
     "text": [
      "reading: covid19_2020_04_12_00_00_00_minimal.json\n"
     ]
    },
    {
     "name": "stderr",
     "output_type": "stream",
     "text": [
      "1446411it [00:08, 177323.90it/s]\n",
      "17818it [00:00, 176874.58it/s]"
     ]
    },
    {
     "name": "stdout",
     "output_type": "stream",
     "text": [
      "reading: covid19_2020_04_13.json\n"
     ]
    },
    {
     "name": "stderr",
     "output_type": "stream",
     "text": [
      "1478361it [00:08, 171238.72it/s]\n",
      "17930it [00:00, 177938.79it/s]"
     ]
    },
    {
     "name": "stdout",
     "output_type": "stream",
     "text": [
      "reading: covid19_2020_04_14.json\n"
     ]
    },
    {
     "name": "stderr",
     "output_type": "stream",
     "text": [
      "1500836it [00:08, 178503.11it/s]\n",
      "17912it [00:00, 177767.72it/s]"
     ]
    },
    {
     "name": "stdout",
     "output_type": "stream",
     "text": [
      "reading: covid19_2020_04_15.json\n"
     ]
    },
    {
     "name": "stderr",
     "output_type": "stream",
     "text": [
      "1508079it [00:08, 177453.68it/s]\n",
      "18112it [00:00, 179761.98it/s]"
     ]
    },
    {
     "name": "stdout",
     "output_type": "stream",
     "text": [
      "reading: covid19_2020_04_16_00_00_00_minimal.json\n"
     ]
    },
    {
     "name": "stderr",
     "output_type": "stream",
     "text": [
      "1526559it [00:08, 179854.31it/s]\n",
      "14770it [00:00, 146521.83it/s]"
     ]
    },
    {
     "name": "stdout",
     "output_type": "stream",
     "text": [
      "reading: covid19_2020_04_17.json\n"
     ]
    },
    {
     "name": "stderr",
     "output_type": "stream",
     "text": [
      "844516it [00:04, 173204.45it/s]\n",
      "36430it [00:00, 180864.47it/s]"
     ]
    },
    {
     "name": "stdout",
     "output_type": "stream",
     "text": [
      "reading: covid19_2020_04_18.json\n"
     ]
    },
    {
     "name": "stderr",
     "output_type": "stream",
     "text": [
      "1453290it [00:08, 176707.22it/s]\n",
      "18376it [00:00, 182365.36it/s]"
     ]
    },
    {
     "name": "stdout",
     "output_type": "stream",
     "text": [
      "reading: covid19_2020_04_19.json\n"
     ]
    },
    {
     "name": "stderr",
     "output_type": "stream",
     "text": [
      "1517732it [00:08, 179134.27it/s]\n",
      "18378it [00:00, 183187.94it/s]"
     ]
    },
    {
     "name": "stdout",
     "output_type": "stream",
     "text": [
      "reading: covid19_2020_04_20.json\n"
     ]
    },
    {
     "name": "stderr",
     "output_type": "stream",
     "text": [
      "1509754it [00:08, 176981.91it/s]\n",
      "16626it [00:00, 165013.79it/s]"
     ]
    },
    {
     "name": "stdout",
     "output_type": "stream",
     "text": [
      "reading: covid19_2020_04_21.json\n"
     ]
    },
    {
     "name": "stderr",
     "output_type": "stream",
     "text": [
      "1548554it [00:10, 143977.88it/s]\n",
      "16666it [00:00, 165453.08it/s]"
     ]
    },
    {
     "name": "stdout",
     "output_type": "stream",
     "text": [
      "reading: covid19_2020_04_22_00_00_00_minimal.json\n"
     ]
    },
    {
     "name": "stderr",
     "output_type": "stream",
     "text": [
      "1271166it [00:07, 173714.72it/s]\n",
      "15510it [00:00, 153611.39it/s]"
     ]
    },
    {
     "name": "stdout",
     "output_type": "stream",
     "text": [
      "reading: covid19_2020_04_23.json\n"
     ]
    },
    {
     "name": "stderr",
     "output_type": "stream",
     "text": [
      "1525187it [00:08, 173821.34it/s]\n",
      "17238it [00:00, 171131.65it/s]"
     ]
    },
    {
     "name": "stdout",
     "output_type": "stream",
     "text": [
      "reading: covid19_2020_04_24.json\n"
     ]
    },
    {
     "name": "stderr",
     "output_type": "stream",
     "text": [
      "1414102it [00:09, 153592.70it/s]\n",
      "17093it [00:00, 169640.36it/s]"
     ]
    },
    {
     "name": "stdout",
     "output_type": "stream",
     "text": [
      "reading: covid19_2020_04_25.json\n"
     ]
    },
    {
     "name": "stderr",
     "output_type": "stream",
     "text": [
      "1373459it [00:07, 177234.86it/s]\n",
      "17752it [00:00, 176270.73it/s]"
     ]
    },
    {
     "name": "stdout",
     "output_type": "stream",
     "text": [
      "reading: covid19_2020_04_26.json\n"
     ]
    },
    {
     "name": "stderr",
     "output_type": "stream",
     "text": [
      "1443852it [00:08, 178176.17it/s]\n",
      "13638it [00:00, 135391.72it/s]"
     ]
    },
    {
     "name": "stdout",
     "output_type": "stream",
     "text": [
      "reading: covid19_2020_04_27.json\n"
     ]
    },
    {
     "name": "stderr",
     "output_type": "stream",
     "text": [
      "1378653it [00:07, 175810.37it/s]\n",
      "17704it [00:00, 175707.17it/s]"
     ]
    },
    {
     "name": "stdout",
     "output_type": "stream",
     "text": [
      "reading: covid19_2020_04_28.json\n"
     ]
    },
    {
     "name": "stderr",
     "output_type": "stream",
     "text": [
      "965482it [00:05, 174825.25it/s]\n",
      "14418it [00:00, 143014.35it/s]"
     ]
    },
    {
     "name": "stdout",
     "output_type": "stream",
     "text": [
      "reading: covid19_2020_04_29.json\n"
     ]
    },
    {
     "name": "stderr",
     "output_type": "stream",
     "text": [
      "83946it [00:00, 169648.22it/s]\n"
     ]
    }
   ],
   "source": [
    "# Read every json file and count number of tweet originated from each US state\n",
    "for fname in json_files:\n",
    "    tweets_per_state = {}\n",
    "    print(f'reading: {fname}')\n",
    "    with open(fname, 'r') as f:\n",
    "        for line in tqdm(f):\n",
    "            try:\n",
    "                tweet = json.loads(line)\n",
    "            except:\n",
    "                continue\n",
    "            if tweet['location'] is not None:\n",
    "                country, state = tweet['location']['country'], tweet['location']['state']\n",
    "                if (country == 'United States') and (state in us_states):\n",
    "                    if state in tweets_per_state.keys():\n",
    "                        tweets_per_state[state] += 1\n",
    "                    else:\n",
    "                        tweets_per_state[state] = 1\n",
    "        if bool(tweets_per_state):\n",
    "            y, m, d = fname[8:18].split('_')\n",
    "            tweets_per_state['date'] = '/'.join([d, m, y])\n",
    "            df = df.append(tweets_per_state, ignore_index=True)"
   ]
  },
  {
   "cell_type": "code",
   "execution_count": 57,
   "metadata": {},
   "outputs": [
    {
     "data": {
      "text/html": [
       "<div>\n",
       "<style scoped>\n",
       "    .dataframe tbody tr th:only-of-type {\n",
       "        vertical-align: middle;\n",
       "    }\n",
       "\n",
       "    .dataframe tbody tr th {\n",
       "        vertical-align: top;\n",
       "    }\n",
       "\n",
       "    .dataframe thead th {\n",
       "        text-align: right;\n",
       "    }\n",
       "</style>\n",
       "<table border=\"1\" class=\"dataframe\">\n",
       "  <thead>\n",
       "    <tr style=\"text-align: right;\">\n",
       "      <th></th>\n",
       "      <th>date</th>\n",
       "      <th>Alabama</th>\n",
       "      <th>Alaska</th>\n",
       "      <th>Arizona</th>\n",
       "      <th>Arkansas</th>\n",
       "      <th>California</th>\n",
       "      <th>Colorado</th>\n",
       "      <th>Connecticut</th>\n",
       "      <th>Delaware</th>\n",
       "      <th>Florida</th>\n",
       "      <th>...</th>\n",
       "      <th>South Dakota</th>\n",
       "      <th>Tennessee</th>\n",
       "      <th>Texas</th>\n",
       "      <th>Utah</th>\n",
       "      <th>Vermont</th>\n",
       "      <th>Virginia</th>\n",
       "      <th>Washington</th>\n",
       "      <th>West Virginia</th>\n",
       "      <th>Wisconsin</th>\n",
       "      <th>Wyoming</th>\n",
       "    </tr>\n",
       "  </thead>\n",
       "  <tbody>\n",
       "    <tr>\n",
       "      <th>0</th>\n",
       "      <td>06/02/2020</td>\n",
       "      <td>382</td>\n",
       "      <td>119</td>\n",
       "      <td>981</td>\n",
       "      <td>188</td>\n",
       "      <td>8913</td>\n",
       "      <td>494</td>\n",
       "      <td>464</td>\n",
       "      <td>59</td>\n",
       "      <td>3810</td>\n",
       "      <td>...</td>\n",
       "      <td>60</td>\n",
       "      <td>734</td>\n",
       "      <td>3856</td>\n",
       "      <td>237</td>\n",
       "      <td>50</td>\n",
       "      <td>1017</td>\n",
       "      <td>879</td>\n",
       "      <td>149</td>\n",
       "      <td>667</td>\n",
       "      <td>27</td>\n",
       "    </tr>\n",
       "    <tr>\n",
       "      <th>1</th>\n",
       "      <td>07/02/2020</td>\n",
       "      <td>702</td>\n",
       "      <td>224</td>\n",
       "      <td>1772</td>\n",
       "      <td>380</td>\n",
       "      <td>14130</td>\n",
       "      <td>896</td>\n",
       "      <td>705</td>\n",
       "      <td>106</td>\n",
       "      <td>6471</td>\n",
       "      <td>...</td>\n",
       "      <td>134</td>\n",
       "      <td>1195</td>\n",
       "      <td>6975</td>\n",
       "      <td>445</td>\n",
       "      <td>81</td>\n",
       "      <td>1906</td>\n",
       "      <td>1341</td>\n",
       "      <td>251</td>\n",
       "      <td>904</td>\n",
       "      <td>44</td>\n",
       "    </tr>\n",
       "    <tr>\n",
       "      <th>2</th>\n",
       "      <td>08/02/2020</td>\n",
       "      <td>717</td>\n",
       "      <td>248</td>\n",
       "      <td>1674</td>\n",
       "      <td>335</td>\n",
       "      <td>13303</td>\n",
       "      <td>843</td>\n",
       "      <td>665</td>\n",
       "      <td>126</td>\n",
       "      <td>6467</td>\n",
       "      <td>...</td>\n",
       "      <td>127</td>\n",
       "      <td>1194</td>\n",
       "      <td>6472</td>\n",
       "      <td>428</td>\n",
       "      <td>76</td>\n",
       "      <td>1668</td>\n",
       "      <td>1167</td>\n",
       "      <td>274</td>\n",
       "      <td>845</td>\n",
       "      <td>55</td>\n",
       "    </tr>\n",
       "    <tr>\n",
       "      <th>3</th>\n",
       "      <td>09/02/2020</td>\n",
       "      <td>886</td>\n",
       "      <td>320</td>\n",
       "      <td>2504</td>\n",
       "      <td>511</td>\n",
       "      <td>18202</td>\n",
       "      <td>1191</td>\n",
       "      <td>820</td>\n",
       "      <td>147</td>\n",
       "      <td>8908</td>\n",
       "      <td>...</td>\n",
       "      <td>238</td>\n",
       "      <td>1698</td>\n",
       "      <td>8310</td>\n",
       "      <td>612</td>\n",
       "      <td>153</td>\n",
       "      <td>2318</td>\n",
       "      <td>1766</td>\n",
       "      <td>368</td>\n",
       "      <td>1306</td>\n",
       "      <td>81</td>\n",
       "    </tr>\n",
       "    <tr>\n",
       "      <th>4</th>\n",
       "      <td>10/02/2020</td>\n",
       "      <td>NaN</td>\n",
       "      <td>NaN</td>\n",
       "      <td>2</td>\n",
       "      <td>NaN</td>\n",
       "      <td>15</td>\n",
       "      <td>NaN</td>\n",
       "      <td>2</td>\n",
       "      <td>NaN</td>\n",
       "      <td>1</td>\n",
       "      <td>...</td>\n",
       "      <td>NaN</td>\n",
       "      <td>NaN</td>\n",
       "      <td>8</td>\n",
       "      <td>1</td>\n",
       "      <td>NaN</td>\n",
       "      <td>NaN</td>\n",
       "      <td>1</td>\n",
       "      <td>1</td>\n",
       "      <td>NaN</td>\n",
       "      <td>NaN</td>\n",
       "    </tr>\n",
       "    <tr>\n",
       "      <th>...</th>\n",
       "      <td>...</td>\n",
       "      <td>...</td>\n",
       "      <td>...</td>\n",
       "      <td>...</td>\n",
       "      <td>...</td>\n",
       "      <td>...</td>\n",
       "      <td>...</td>\n",
       "      <td>...</td>\n",
       "      <td>...</td>\n",
       "      <td>...</td>\n",
       "      <td>...</td>\n",
       "      <td>...</td>\n",
       "      <td>...</td>\n",
       "      <td>...</td>\n",
       "      <td>...</td>\n",
       "      <td>...</td>\n",
       "      <td>...</td>\n",
       "      <td>...</td>\n",
       "      <td>...</td>\n",
       "      <td>...</td>\n",
       "      <td>...</td>\n",
       "    </tr>\n",
       "    <tr>\n",
       "      <th>78</th>\n",
       "      <td>25/04/2020</td>\n",
       "      <td>1551</td>\n",
       "      <td>465</td>\n",
       "      <td>4888</td>\n",
       "      <td>847</td>\n",
       "      <td>29870</td>\n",
       "      <td>2614</td>\n",
       "      <td>1945</td>\n",
       "      <td>339</td>\n",
       "      <td>15547</td>\n",
       "      <td>...</td>\n",
       "      <td>203</td>\n",
       "      <td>3601</td>\n",
       "      <td>12543</td>\n",
       "      <td>747</td>\n",
       "      <td>214</td>\n",
       "      <td>4449</td>\n",
       "      <td>3023</td>\n",
       "      <td>738</td>\n",
       "      <td>2214</td>\n",
       "      <td>172</td>\n",
       "    </tr>\n",
       "    <tr>\n",
       "      <th>79</th>\n",
       "      <td>26/04/2020</td>\n",
       "      <td>1682</td>\n",
       "      <td>457</td>\n",
       "      <td>4673</td>\n",
       "      <td>863</td>\n",
       "      <td>29948</td>\n",
       "      <td>2693</td>\n",
       "      <td>2139</td>\n",
       "      <td>336</td>\n",
       "      <td>15656</td>\n",
       "      <td>...</td>\n",
       "      <td>172</td>\n",
       "      <td>3593</td>\n",
       "      <td>12519</td>\n",
       "      <td>827</td>\n",
       "      <td>243</td>\n",
       "      <td>4389</td>\n",
       "      <td>3113</td>\n",
       "      <td>744</td>\n",
       "      <td>2218</td>\n",
       "      <td>164</td>\n",
       "    </tr>\n",
       "    <tr>\n",
       "      <th>80</th>\n",
       "      <td>27/04/2020</td>\n",
       "      <td>1520</td>\n",
       "      <td>368</td>\n",
       "      <td>4197</td>\n",
       "      <td>872</td>\n",
       "      <td>27727</td>\n",
       "      <td>2529</td>\n",
       "      <td>2069</td>\n",
       "      <td>290</td>\n",
       "      <td>14010</td>\n",
       "      <td>...</td>\n",
       "      <td>194</td>\n",
       "      <td>3181</td>\n",
       "      <td>12045</td>\n",
       "      <td>739</td>\n",
       "      <td>227</td>\n",
       "      <td>4312</td>\n",
       "      <td>2804</td>\n",
       "      <td>692</td>\n",
       "      <td>2117</td>\n",
       "      <td>140</td>\n",
       "    </tr>\n",
       "    <tr>\n",
       "      <th>81</th>\n",
       "      <td>28/04/2020</td>\n",
       "      <td>1217</td>\n",
       "      <td>342</td>\n",
       "      <td>4202</td>\n",
       "      <td>689</td>\n",
       "      <td>27932</td>\n",
       "      <td>2388</td>\n",
       "      <td>1581</td>\n",
       "      <td>282</td>\n",
       "      <td>11743</td>\n",
       "      <td>...</td>\n",
       "      <td>149</td>\n",
       "      <td>2695</td>\n",
       "      <td>11226</td>\n",
       "      <td>691</td>\n",
       "      <td>175</td>\n",
       "      <td>3309</td>\n",
       "      <td>2813</td>\n",
       "      <td>527</td>\n",
       "      <td>1814</td>\n",
       "      <td>115</td>\n",
       "    </tr>\n",
       "    <tr>\n",
       "      <th>82</th>\n",
       "      <td>29/04/2020</td>\n",
       "      <td>83</td>\n",
       "      <td>36</td>\n",
       "      <td>433</td>\n",
       "      <td>54</td>\n",
       "      <td>3085</td>\n",
       "      <td>208</td>\n",
       "      <td>83</td>\n",
       "      <td>23</td>\n",
       "      <td>766</td>\n",
       "      <td>...</td>\n",
       "      <td>16</td>\n",
       "      <td>241</td>\n",
       "      <td>1223</td>\n",
       "      <td>104</td>\n",
       "      <td>5</td>\n",
       "      <td>197</td>\n",
       "      <td>276</td>\n",
       "      <td>47</td>\n",
       "      <td>119</td>\n",
       "      <td>12</td>\n",
       "    </tr>\n",
       "  </tbody>\n",
       "</table>\n",
       "<p>83 rows × 51 columns</p>\n",
       "</div>"
      ],
      "text/plain": [
       "          date Alabama Alaska Arizona Arkansas California Colorado  \\\n",
       "0   06/02/2020     382    119     981      188       8913      494   \n",
       "1   07/02/2020     702    224    1772      380      14130      896   \n",
       "2   08/02/2020     717    248    1674      335      13303      843   \n",
       "3   09/02/2020     886    320    2504      511      18202     1191   \n",
       "4   10/02/2020     NaN    NaN       2      NaN         15      NaN   \n",
       "..         ...     ...    ...     ...      ...        ...      ...   \n",
       "78  25/04/2020    1551    465    4888      847      29870     2614   \n",
       "79  26/04/2020    1682    457    4673      863      29948     2693   \n",
       "80  27/04/2020    1520    368    4197      872      27727     2529   \n",
       "81  28/04/2020    1217    342    4202      689      27932     2388   \n",
       "82  29/04/2020      83     36     433       54       3085      208   \n",
       "\n",
       "   Connecticut Delaware Florida  ... South Dakota Tennessee  Texas Utah  \\\n",
       "0          464       59    3810  ...           60       734   3856  237   \n",
       "1          705      106    6471  ...          134      1195   6975  445   \n",
       "2          665      126    6467  ...          127      1194   6472  428   \n",
       "3          820      147    8908  ...          238      1698   8310  612   \n",
       "4            2      NaN       1  ...          NaN       NaN      8    1   \n",
       "..         ...      ...     ...  ...          ...       ...    ...  ...   \n",
       "78        1945      339   15547  ...          203      3601  12543  747   \n",
       "79        2139      336   15656  ...          172      3593  12519  827   \n",
       "80        2069      290   14010  ...          194      3181  12045  739   \n",
       "81        1581      282   11743  ...          149      2695  11226  691   \n",
       "82          83       23     766  ...           16       241   1223  104   \n",
       "\n",
       "   Vermont Virginia Washington West Virginia Wisconsin Wyoming  \n",
       "0       50     1017        879           149       667      27  \n",
       "1       81     1906       1341           251       904      44  \n",
       "2       76     1668       1167           274       845      55  \n",
       "3      153     2318       1766           368      1306      81  \n",
       "4      NaN      NaN          1             1       NaN     NaN  \n",
       "..     ...      ...        ...           ...       ...     ...  \n",
       "78     214     4449       3023           738      2214     172  \n",
       "79     243     4389       3113           744      2218     164  \n",
       "80     227     4312       2804           692      2117     140  \n",
       "81     175     3309       2813           527      1814     115  \n",
       "82       5      197        276            47       119      12  \n",
       "\n",
       "[83 rows x 51 columns]"
      ]
     },
     "execution_count": 57,
     "metadata": {},
     "output_type": "execute_result"
    }
   ],
   "source": [
    "# After reading all json file, here is the result tweet_per_state dataframe\n",
    "df"
   ]
  },
  {
   "cell_type": "code",
   "execution_count": 58,
   "metadata": {},
   "outputs": [
    {
     "data": {
      "text/html": [
       "<div>\n",
       "<style scoped>\n",
       "    .dataframe tbody tr th:only-of-type {\n",
       "        vertical-align: middle;\n",
       "    }\n",
       "\n",
       "    .dataframe tbody tr th {\n",
       "        vertical-align: top;\n",
       "    }\n",
       "\n",
       "    .dataframe thead th {\n",
       "        text-align: right;\n",
       "    }\n",
       "</style>\n",
       "<table border=\"1\" class=\"dataframe\">\n",
       "  <thead>\n",
       "    <tr style=\"text-align: right;\">\n",
       "      <th></th>\n",
       "      <th>date</th>\n",
       "      <th>Alabama</th>\n",
       "      <th>Alaska</th>\n",
       "      <th>Arizona</th>\n",
       "      <th>Arkansas</th>\n",
       "      <th>California</th>\n",
       "      <th>Colorado</th>\n",
       "      <th>Connecticut</th>\n",
       "      <th>Delaware</th>\n",
       "      <th>Florida</th>\n",
       "      <th>...</th>\n",
       "      <th>South Dakota</th>\n",
       "      <th>Tennessee</th>\n",
       "      <th>Texas</th>\n",
       "      <th>Utah</th>\n",
       "      <th>Vermont</th>\n",
       "      <th>Virginia</th>\n",
       "      <th>Washington</th>\n",
       "      <th>West Virginia</th>\n",
       "      <th>Wisconsin</th>\n",
       "      <th>Wyoming</th>\n",
       "    </tr>\n",
       "  </thead>\n",
       "  <tbody>\n",
       "    <tr>\n",
       "      <th>0</th>\n",
       "      <td>06/02/2020</td>\n",
       "      <td>382</td>\n",
       "      <td>119</td>\n",
       "      <td>981</td>\n",
       "      <td>188</td>\n",
       "      <td>8913</td>\n",
       "      <td>494</td>\n",
       "      <td>464</td>\n",
       "      <td>59</td>\n",
       "      <td>3810</td>\n",
       "      <td>...</td>\n",
       "      <td>60</td>\n",
       "      <td>734</td>\n",
       "      <td>3856</td>\n",
       "      <td>237</td>\n",
       "      <td>50</td>\n",
       "      <td>1017</td>\n",
       "      <td>879</td>\n",
       "      <td>149</td>\n",
       "      <td>667</td>\n",
       "      <td>27</td>\n",
       "    </tr>\n",
       "    <tr>\n",
       "      <th>1</th>\n",
       "      <td>07/02/2020</td>\n",
       "      <td>702</td>\n",
       "      <td>224</td>\n",
       "      <td>1772</td>\n",
       "      <td>380</td>\n",
       "      <td>14130</td>\n",
       "      <td>896</td>\n",
       "      <td>705</td>\n",
       "      <td>106</td>\n",
       "      <td>6471</td>\n",
       "      <td>...</td>\n",
       "      <td>134</td>\n",
       "      <td>1195</td>\n",
       "      <td>6975</td>\n",
       "      <td>445</td>\n",
       "      <td>81</td>\n",
       "      <td>1906</td>\n",
       "      <td>1341</td>\n",
       "      <td>251</td>\n",
       "      <td>904</td>\n",
       "      <td>44</td>\n",
       "    </tr>\n",
       "    <tr>\n",
       "      <th>2</th>\n",
       "      <td>08/02/2020</td>\n",
       "      <td>717</td>\n",
       "      <td>248</td>\n",
       "      <td>1674</td>\n",
       "      <td>335</td>\n",
       "      <td>13303</td>\n",
       "      <td>843</td>\n",
       "      <td>665</td>\n",
       "      <td>126</td>\n",
       "      <td>6467</td>\n",
       "      <td>...</td>\n",
       "      <td>127</td>\n",
       "      <td>1194</td>\n",
       "      <td>6472</td>\n",
       "      <td>428</td>\n",
       "      <td>76</td>\n",
       "      <td>1668</td>\n",
       "      <td>1167</td>\n",
       "      <td>274</td>\n",
       "      <td>845</td>\n",
       "      <td>55</td>\n",
       "    </tr>\n",
       "    <tr>\n",
       "      <th>3</th>\n",
       "      <td>09/02/2020</td>\n",
       "      <td>886</td>\n",
       "      <td>320</td>\n",
       "      <td>2504</td>\n",
       "      <td>511</td>\n",
       "      <td>18202</td>\n",
       "      <td>1191</td>\n",
       "      <td>820</td>\n",
       "      <td>147</td>\n",
       "      <td>8908</td>\n",
       "      <td>...</td>\n",
       "      <td>238</td>\n",
       "      <td>1698</td>\n",
       "      <td>8310</td>\n",
       "      <td>612</td>\n",
       "      <td>153</td>\n",
       "      <td>2318</td>\n",
       "      <td>1766</td>\n",
       "      <td>368</td>\n",
       "      <td>1306</td>\n",
       "      <td>81</td>\n",
       "    </tr>\n",
       "    <tr>\n",
       "      <th>4</th>\n",
       "      <td>10/02/2020</td>\n",
       "      <td>0</td>\n",
       "      <td>0</td>\n",
       "      <td>2</td>\n",
       "      <td>0</td>\n",
       "      <td>15</td>\n",
       "      <td>0</td>\n",
       "      <td>2</td>\n",
       "      <td>0</td>\n",
       "      <td>1</td>\n",
       "      <td>...</td>\n",
       "      <td>0</td>\n",
       "      <td>0</td>\n",
       "      <td>8</td>\n",
       "      <td>1</td>\n",
       "      <td>0</td>\n",
       "      <td>0</td>\n",
       "      <td>1</td>\n",
       "      <td>1</td>\n",
       "      <td>0</td>\n",
       "      <td>0</td>\n",
       "    </tr>\n",
       "  </tbody>\n",
       "</table>\n",
       "<p>5 rows × 51 columns</p>\n",
       "</div>"
      ],
      "text/plain": [
       "         date  Alabama  Alaska  Arizona  Arkansas  California  Colorado  \\\n",
       "0  06/02/2020      382     119      981       188        8913       494   \n",
       "1  07/02/2020      702     224     1772       380       14130       896   \n",
       "2  08/02/2020      717     248     1674       335       13303       843   \n",
       "3  09/02/2020      886     320     2504       511       18202      1191   \n",
       "4  10/02/2020        0       0        2         0          15         0   \n",
       "\n",
       "   Connecticut  Delaware  Florida  ...  South Dakota  Tennessee  Texas  Utah  \\\n",
       "0          464        59     3810  ...            60        734   3856   237   \n",
       "1          705       106     6471  ...           134       1195   6975   445   \n",
       "2          665       126     6467  ...           127       1194   6472   428   \n",
       "3          820       147     8908  ...           238       1698   8310   612   \n",
       "4            2         0        1  ...             0          0      8     1   \n",
       "\n",
       "   Vermont  Virginia  Washington  West Virginia  Wisconsin  Wyoming  \n",
       "0       50      1017         879            149        667       27  \n",
       "1       81      1906        1341            251        904       44  \n",
       "2       76      1668        1167            274        845       55  \n",
       "3      153      2318        1766            368       1306       81  \n",
       "4        0         0           1              1          0        0  \n",
       "\n",
       "[5 rows x 51 columns]"
      ]
     },
     "execution_count": 58,
     "metadata": {},
     "output_type": "execute_result"
    }
   ],
   "source": [
    "# Convert NaN cell to 0\n",
    "df = df.fillna(0)\n",
    "df.head(5)"
   ]
  },
  {
   "cell_type": "code",
   "execution_count": 61,
   "metadata": {},
   "outputs": [
    {
     "data": {
      "text/plain": [
       "Alabama            137557\n",
       "Alaska              34592\n",
       "Arizona            379054\n",
       "Arkansas            74228\n",
       "California        2574728\n",
       "Colorado           228325\n",
       "Connecticut        155761\n",
       "Delaware            24731\n",
       "Florida           1246029\n",
       "Georgia            484180\n",
       "Hawaii              73225\n",
       "Idaho               51195\n",
       "Illinois           506448\n",
       "Indiana            165630\n",
       "Iowa                68116\n",
       "Kansas              75673\n",
       "Kentucky           111014\n",
       "Louisiana          185205\n",
       "Maine               46146\n",
       "Maryland           290338\n",
       "Massachusetts      349382\n",
       "Michigan           383437\n",
       "Minnesota          230188\n",
       "Mississippi         41294\n",
       "Missouri           167090\n",
       "Montana             26318\n",
       "Nebraska            49662\n",
       "Nevada             204932\n",
       "New Hampshire       51433\n",
       "New Jersey         376521\n",
       "New Mexico          64876\n",
       "New York          1516197\n",
       "North Carolina     280339\n",
       "North Dakota        10885\n",
       "Ohio               457105\n",
       "Oklahoma            97356\n",
       "Oregon             266551\n",
       "Pennsylvania       568146\n",
       "Rhode Island        34490\n",
       "South Carolina     166696\n",
       "South Dakota        16689\n",
       "Tennessee          279313\n",
       "Texas             1187773\n",
       "Utah                74012\n",
       "Vermont             19737\n",
       "Virginia           370840\n",
       "Washington         289545\n",
       "West Virginia       55361\n",
       "Wisconsin          179953\n",
       "Wyoming             10648\n",
       "dtype: int64"
      ]
     },
     "execution_count": 61,
     "metadata": {},
     "output_type": "execute_result"
    }
   ],
   "source": [
    "# Total Tweets collected per state\n",
    "df.sum(axis=0, numeric_only=True)"
   ]
  },
  {
   "cell_type": "code",
   "execution_count": 63,
   "metadata": {},
   "outputs": [
    {
     "data": {
      "text/html": [
       "<div>\n",
       "<style scoped>\n",
       "    .dataframe tbody tr th:only-of-type {\n",
       "        vertical-align: middle;\n",
       "    }\n",
       "\n",
       "    .dataframe tbody tr th {\n",
       "        vertical-align: top;\n",
       "    }\n",
       "\n",
       "    .dataframe thead th {\n",
       "        text-align: right;\n",
       "    }\n",
       "</style>\n",
       "<table border=\"1\" class=\"dataframe\">\n",
       "  <thead>\n",
       "    <tr style=\"text-align: right;\">\n",
       "      <th></th>\n",
       "      <th>date</th>\n",
       "      <th>total</th>\n",
       "    </tr>\n",
       "  </thead>\n",
       "  <tbody>\n",
       "    <tr>\n",
       "      <th>0</th>\n",
       "      <td>06/02/2020</td>\n",
       "      <td>44483</td>\n",
       "    </tr>\n",
       "    <tr>\n",
       "      <th>1</th>\n",
       "      <td>07/02/2020</td>\n",
       "      <td>76642</td>\n",
       "    </tr>\n",
       "    <tr>\n",
       "      <th>2</th>\n",
       "      <td>08/02/2020</td>\n",
       "      <td>71182</td>\n",
       "    </tr>\n",
       "    <tr>\n",
       "      <th>3</th>\n",
       "      <td>09/02/2020</td>\n",
       "      <td>97588</td>\n",
       "    </tr>\n",
       "    <tr>\n",
       "      <th>4</th>\n",
       "      <td>10/02/2020</td>\n",
       "      <td>57</td>\n",
       "    </tr>\n",
       "    <tr>\n",
       "      <th>...</th>\n",
       "      <td>...</td>\n",
       "      <td>...</td>\n",
       "    </tr>\n",
       "    <tr>\n",
       "      <th>78</th>\n",
       "      <td>25/04/2020</td>\n",
       "      <td>174201</td>\n",
       "    </tr>\n",
       "    <tr>\n",
       "      <th>79</th>\n",
       "      <td>26/04/2020</td>\n",
       "      <td>176629</td>\n",
       "    </tr>\n",
       "    <tr>\n",
       "      <th>80</th>\n",
       "      <td>27/04/2020</td>\n",
       "      <td>166022</td>\n",
       "    </tr>\n",
       "    <tr>\n",
       "      <th>81</th>\n",
       "      <td>28/04/2020</td>\n",
       "      <td>145513</td>\n",
       "    </tr>\n",
       "    <tr>\n",
       "      <th>82</th>\n",
       "      <td>29/04/2020</td>\n",
       "      <td>12142</td>\n",
       "    </tr>\n",
       "  </tbody>\n",
       "</table>\n",
       "<p>83 rows × 2 columns</p>\n",
       "</div>"
      ],
      "text/plain": [
       "          date   total\n",
       "0   06/02/2020   44483\n",
       "1   07/02/2020   76642\n",
       "2   08/02/2020   71182\n",
       "3   09/02/2020   97588\n",
       "4   10/02/2020      57\n",
       "..         ...     ...\n",
       "78  25/04/2020  174201\n",
       "79  26/04/2020  176629\n",
       "80  27/04/2020  166022\n",
       "81  28/04/2020  145513\n",
       "82  29/04/2020   12142\n",
       "\n",
       "[83 rows x 2 columns]"
      ]
     },
     "execution_count": 63,
     "metadata": {},
     "output_type": "execute_result"
    }
   ],
   "source": [
    "# Adding total count as another column of dataframe\n",
    "df['total'] = df.sum(axis=1, numeric_only=True)\n",
    "df[['date', 'total']]"
   ]
  },
  {
   "cell_type": "code",
   "execution_count": 73,
   "metadata": {},
   "outputs": [
    {
     "name": "stdout",
     "output_type": "stream",
     "text": [
      "sorted total counts:\n",
      "[      2       2       2       2       2       3       3       4       8\n",
      "       9      16      18      57   12142   14510   29397   40463   44048\n",
      "   44483   46299   47020   48580   48808   53375   54470   61961   70575\n",
      "   71182   74110   75311   76642   88424   89305   97588  107688  115678\n",
      "  125996  132047  132880  138549  143648  143884  145513  146331  152253\n",
      "  158786  161254  161503  166022  174201  176629  179575  185278  190756\n",
      "  191678  193348  194274  196008  196605  199355  201396  201722  203709\n",
      "  211000  212463  218917  223340  265164  313625  321524  330120  332861\n",
      "  350470  371485  371923  373689  401129  441739  449796  545195  794421\n",
      "  871601 1333095]\n"
     ]
    },
    {
     "data": {
      "text/html": [
       "<div>\n",
       "<style scoped>\n",
       "    .dataframe tbody tr th:only-of-type {\n",
       "        vertical-align: middle;\n",
       "    }\n",
       "\n",
       "    .dataframe tbody tr th {\n",
       "        vertical-align: top;\n",
       "    }\n",
       "\n",
       "    .dataframe thead th {\n",
       "        text-align: right;\n",
       "    }\n",
       "</style>\n",
       "<table border=\"1\" class=\"dataframe\">\n",
       "  <thead>\n",
       "    <tr style=\"text-align: right;\">\n",
       "      <th></th>\n",
       "      <th>date</th>\n",
       "      <th>Alabama</th>\n",
       "      <th>Alaska</th>\n",
       "      <th>Arizona</th>\n",
       "      <th>Arkansas</th>\n",
       "      <th>California</th>\n",
       "      <th>Colorado</th>\n",
       "      <th>Connecticut</th>\n",
       "      <th>Delaware</th>\n",
       "      <th>Florida</th>\n",
       "      <th>...</th>\n",
       "      <th>Tennessee</th>\n",
       "      <th>Texas</th>\n",
       "      <th>Utah</th>\n",
       "      <th>Vermont</th>\n",
       "      <th>Virginia</th>\n",
       "      <th>Washington</th>\n",
       "      <th>West Virginia</th>\n",
       "      <th>Wisconsin</th>\n",
       "      <th>Wyoming</th>\n",
       "      <th>total</th>\n",
       "    </tr>\n",
       "  </thead>\n",
       "  <tbody>\n",
       "    <tr>\n",
       "      <th>0</th>\n",
       "      <td>06/02/2020</td>\n",
       "      <td>382</td>\n",
       "      <td>119</td>\n",
       "      <td>981</td>\n",
       "      <td>188</td>\n",
       "      <td>8913</td>\n",
       "      <td>494</td>\n",
       "      <td>464</td>\n",
       "      <td>59</td>\n",
       "      <td>3810</td>\n",
       "      <td>...</td>\n",
       "      <td>734</td>\n",
       "      <td>3856</td>\n",
       "      <td>237</td>\n",
       "      <td>50</td>\n",
       "      <td>1017</td>\n",
       "      <td>879</td>\n",
       "      <td>149</td>\n",
       "      <td>667</td>\n",
       "      <td>27</td>\n",
       "      <td>44483</td>\n",
       "    </tr>\n",
       "    <tr>\n",
       "      <th>1</th>\n",
       "      <td>07/02/2020</td>\n",
       "      <td>702</td>\n",
       "      <td>224</td>\n",
       "      <td>1772</td>\n",
       "      <td>380</td>\n",
       "      <td>14130</td>\n",
       "      <td>896</td>\n",
       "      <td>705</td>\n",
       "      <td>106</td>\n",
       "      <td>6471</td>\n",
       "      <td>...</td>\n",
       "      <td>1195</td>\n",
       "      <td>6975</td>\n",
       "      <td>445</td>\n",
       "      <td>81</td>\n",
       "      <td>1906</td>\n",
       "      <td>1341</td>\n",
       "      <td>251</td>\n",
       "      <td>904</td>\n",
       "      <td>44</td>\n",
       "      <td>76642</td>\n",
       "    </tr>\n",
       "    <tr>\n",
       "      <th>2</th>\n",
       "      <td>08/02/2020</td>\n",
       "      <td>717</td>\n",
       "      <td>248</td>\n",
       "      <td>1674</td>\n",
       "      <td>335</td>\n",
       "      <td>13303</td>\n",
       "      <td>843</td>\n",
       "      <td>665</td>\n",
       "      <td>126</td>\n",
       "      <td>6467</td>\n",
       "      <td>...</td>\n",
       "      <td>1194</td>\n",
       "      <td>6472</td>\n",
       "      <td>428</td>\n",
       "      <td>76</td>\n",
       "      <td>1668</td>\n",
       "      <td>1167</td>\n",
       "      <td>274</td>\n",
       "      <td>845</td>\n",
       "      <td>55</td>\n",
       "      <td>71182</td>\n",
       "    </tr>\n",
       "    <tr>\n",
       "      <th>3</th>\n",
       "      <td>09/02/2020</td>\n",
       "      <td>886</td>\n",
       "      <td>320</td>\n",
       "      <td>2504</td>\n",
       "      <td>511</td>\n",
       "      <td>18202</td>\n",
       "      <td>1191</td>\n",
       "      <td>820</td>\n",
       "      <td>147</td>\n",
       "      <td>8908</td>\n",
       "      <td>...</td>\n",
       "      <td>1698</td>\n",
       "      <td>8310</td>\n",
       "      <td>612</td>\n",
       "      <td>153</td>\n",
       "      <td>2318</td>\n",
       "      <td>1766</td>\n",
       "      <td>368</td>\n",
       "      <td>1306</td>\n",
       "      <td>81</td>\n",
       "      <td>97588</td>\n",
       "    </tr>\n",
       "    <tr>\n",
       "      <th>4</th>\n",
       "      <td>11/02/2020</td>\n",
       "      <td>292</td>\n",
       "      <td>101</td>\n",
       "      <td>738</td>\n",
       "      <td>147</td>\n",
       "      <td>5336</td>\n",
       "      <td>405</td>\n",
       "      <td>292</td>\n",
       "      <td>38</td>\n",
       "      <td>2510</td>\n",
       "      <td>...</td>\n",
       "      <td>529</td>\n",
       "      <td>2456</td>\n",
       "      <td>162</td>\n",
       "      <td>41</td>\n",
       "      <td>870</td>\n",
       "      <td>465</td>\n",
       "      <td>93</td>\n",
       "      <td>295</td>\n",
       "      <td>13</td>\n",
       "      <td>29397</td>\n",
       "    </tr>\n",
       "    <tr>\n",
       "      <th>...</th>\n",
       "      <td>...</td>\n",
       "      <td>...</td>\n",
       "      <td>...</td>\n",
       "      <td>...</td>\n",
       "      <td>...</td>\n",
       "      <td>...</td>\n",
       "      <td>...</td>\n",
       "      <td>...</td>\n",
       "      <td>...</td>\n",
       "      <td>...</td>\n",
       "      <td>...</td>\n",
       "      <td>...</td>\n",
       "      <td>...</td>\n",
       "      <td>...</td>\n",
       "      <td>...</td>\n",
       "      <td>...</td>\n",
       "      <td>...</td>\n",
       "      <td>...</td>\n",
       "      <td>...</td>\n",
       "      <td>...</td>\n",
       "      <td>...</td>\n",
       "    </tr>\n",
       "    <tr>\n",
       "      <th>65</th>\n",
       "      <td>25/04/2020</td>\n",
       "      <td>1551</td>\n",
       "      <td>465</td>\n",
       "      <td>4888</td>\n",
       "      <td>847</td>\n",
       "      <td>29870</td>\n",
       "      <td>2614</td>\n",
       "      <td>1945</td>\n",
       "      <td>339</td>\n",
       "      <td>15547</td>\n",
       "      <td>...</td>\n",
       "      <td>3601</td>\n",
       "      <td>12543</td>\n",
       "      <td>747</td>\n",
       "      <td>214</td>\n",
       "      <td>4449</td>\n",
       "      <td>3023</td>\n",
       "      <td>738</td>\n",
       "      <td>2214</td>\n",
       "      <td>172</td>\n",
       "      <td>174201</td>\n",
       "    </tr>\n",
       "    <tr>\n",
       "      <th>66</th>\n",
       "      <td>26/04/2020</td>\n",
       "      <td>1682</td>\n",
       "      <td>457</td>\n",
       "      <td>4673</td>\n",
       "      <td>863</td>\n",
       "      <td>29948</td>\n",
       "      <td>2693</td>\n",
       "      <td>2139</td>\n",
       "      <td>336</td>\n",
       "      <td>15656</td>\n",
       "      <td>...</td>\n",
       "      <td>3593</td>\n",
       "      <td>12519</td>\n",
       "      <td>827</td>\n",
       "      <td>243</td>\n",
       "      <td>4389</td>\n",
       "      <td>3113</td>\n",
       "      <td>744</td>\n",
       "      <td>2218</td>\n",
       "      <td>164</td>\n",
       "      <td>176629</td>\n",
       "    </tr>\n",
       "    <tr>\n",
       "      <th>67</th>\n",
       "      <td>27/04/2020</td>\n",
       "      <td>1520</td>\n",
       "      <td>368</td>\n",
       "      <td>4197</td>\n",
       "      <td>872</td>\n",
       "      <td>27727</td>\n",
       "      <td>2529</td>\n",
       "      <td>2069</td>\n",
       "      <td>290</td>\n",
       "      <td>14010</td>\n",
       "      <td>...</td>\n",
       "      <td>3181</td>\n",
       "      <td>12045</td>\n",
       "      <td>739</td>\n",
       "      <td>227</td>\n",
       "      <td>4312</td>\n",
       "      <td>2804</td>\n",
       "      <td>692</td>\n",
       "      <td>2117</td>\n",
       "      <td>140</td>\n",
       "      <td>166022</td>\n",
       "    </tr>\n",
       "    <tr>\n",
       "      <th>68</th>\n",
       "      <td>28/04/2020</td>\n",
       "      <td>1217</td>\n",
       "      <td>342</td>\n",
       "      <td>4202</td>\n",
       "      <td>689</td>\n",
       "      <td>27932</td>\n",
       "      <td>2388</td>\n",
       "      <td>1581</td>\n",
       "      <td>282</td>\n",
       "      <td>11743</td>\n",
       "      <td>...</td>\n",
       "      <td>2695</td>\n",
       "      <td>11226</td>\n",
       "      <td>691</td>\n",
       "      <td>175</td>\n",
       "      <td>3309</td>\n",
       "      <td>2813</td>\n",
       "      <td>527</td>\n",
       "      <td>1814</td>\n",
       "      <td>115</td>\n",
       "      <td>145513</td>\n",
       "    </tr>\n",
       "    <tr>\n",
       "      <th>69</th>\n",
       "      <td>29/04/2020</td>\n",
       "      <td>83</td>\n",
       "      <td>36</td>\n",
       "      <td>433</td>\n",
       "      <td>54</td>\n",
       "      <td>3085</td>\n",
       "      <td>208</td>\n",
       "      <td>83</td>\n",
       "      <td>23</td>\n",
       "      <td>766</td>\n",
       "      <td>...</td>\n",
       "      <td>241</td>\n",
       "      <td>1223</td>\n",
       "      <td>104</td>\n",
       "      <td>5</td>\n",
       "      <td>197</td>\n",
       "      <td>276</td>\n",
       "      <td>47</td>\n",
       "      <td>119</td>\n",
       "      <td>12</td>\n",
       "      <td>12142</td>\n",
       "    </tr>\n",
       "  </tbody>\n",
       "</table>\n",
       "<p>70 rows × 52 columns</p>\n",
       "</div>"
      ],
      "text/plain": [
       "          date  Alabama  Alaska  Arizona  Arkansas  California  Colorado  \\\n",
       "0   06/02/2020      382     119      981       188        8913       494   \n",
       "1   07/02/2020      702     224     1772       380       14130       896   \n",
       "2   08/02/2020      717     248     1674       335       13303       843   \n",
       "3   09/02/2020      886     320     2504       511       18202      1191   \n",
       "4   11/02/2020      292     101      738       147        5336       405   \n",
       "..         ...      ...     ...      ...       ...         ...       ...   \n",
       "65  25/04/2020     1551     465     4888       847       29870      2614   \n",
       "66  26/04/2020     1682     457     4673       863       29948      2693   \n",
       "67  27/04/2020     1520     368     4197       872       27727      2529   \n",
       "68  28/04/2020     1217     342     4202       689       27932      2388   \n",
       "69  29/04/2020       83      36      433        54        3085       208   \n",
       "\n",
       "    Connecticut  Delaware  Florida  ...  Tennessee  Texas  Utah  Vermont  \\\n",
       "0           464        59     3810  ...        734   3856   237       50   \n",
       "1           705       106     6471  ...       1195   6975   445       81   \n",
       "2           665       126     6467  ...       1194   6472   428       76   \n",
       "3           820       147     8908  ...       1698   8310   612      153   \n",
       "4           292        38     2510  ...        529   2456   162       41   \n",
       "..          ...       ...      ...  ...        ...    ...   ...      ...   \n",
       "65         1945       339    15547  ...       3601  12543   747      214   \n",
       "66         2139       336    15656  ...       3593  12519   827      243   \n",
       "67         2069       290    14010  ...       3181  12045   739      227   \n",
       "68         1581       282    11743  ...       2695  11226   691      175   \n",
       "69           83        23      766  ...        241   1223   104        5   \n",
       "\n",
       "    Virginia  Washington  West Virginia  Wisconsin  Wyoming   total  \n",
       "0       1017         879            149        667       27   44483  \n",
       "1       1906        1341            251        904       44   76642  \n",
       "2       1668        1167            274        845       55   71182  \n",
       "3       2318        1766            368       1306       81   97588  \n",
       "4        870         465             93        295       13   29397  \n",
       "..       ...         ...            ...        ...      ...     ...  \n",
       "65      4449        3023            738       2214      172  174201  \n",
       "66      4389        3113            744       2218      164  176629  \n",
       "67      4312        2804            692       2117      140  166022  \n",
       "68      3309        2813            527       1814      115  145513  \n",
       "69       197         276             47        119       12   12142  \n",
       "\n",
       "[70 rows x 52 columns]"
      ]
     },
     "execution_count": 73,
     "metadata": {},
     "output_type": "execute_result"
    }
   ],
   "source": [
    "sorted_total = np.sort(df['total'].to_numpy())\n",
    "print(f'sorted total counts:\\n{sorted_total}')\n",
    "# By sorting total tweet counts,\n",
    "# we can see that there are dates where data was not collected fully and properly\n",
    "# To avoid outliers, we will drop row where total count is < 100\n",
    "us_tweetcount_df = df[df['total'] >= 100]\n",
    "us_tweetcount_df = us_tweetcount_df.reset_index(drop=True)\n",
    "us_tweetcount_df"
   ]
  },
  {
   "cell_type": "code",
   "execution_count": 74,
   "metadata": {},
   "outputs": [],
   "source": [
    "# Save raw dataframe (for map animation)\n",
    "df.to_csv('us_tweetcounts_raw.csv')\n",
    "# Save dataframe with ouliers removed (for analysis)\n",
    "us_tweetcount_df.to_csv('us_tweetcounts.csv')"
   ]
  },
  {
   "cell_type": "code",
   "execution_count": null,
   "metadata": {},
   "outputs": [],
   "source": []
  }
 ],
 "metadata": {
  "kernelspec": {
   "display_name": "Python 3",
   "language": "python",
   "name": "python3"
  },
  "language_info": {
   "codemirror_mode": {
    "name": "ipython",
    "version": 3
   },
   "file_extension": ".py",
   "mimetype": "text/x-python",
   "name": "python",
   "nbconvert_exporter": "python",
   "pygments_lexer": "ipython3",
   "version": "3.6.9"
  }
 },
 "nbformat": 4,
 "nbformat_minor": 4
}
